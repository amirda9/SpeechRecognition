{
  "nbformat": 4,
  "nbformat_minor": 0,
  "metadata": {
    "colab": {
      "name": "final_CI_code.ipynb",
      "provenance": [],
      "collapsed_sections": []
    },
    "kernelspec": {
      "display_name": "Python 3",
      "name": "python3"
    }
  },
  "cells": [
    {
      "cell_type": "code",
      "metadata": {
        "id": "rnWiN0mR4B33"
      },
      "source": [
        "import numpy as np\n",
        "from scipy.io import wavfile\n",
        "import librosa\n",
        "from sklearn.preprocessing import LabelEncoder\n",
        "from keras.utils import np_utils\n",
        "import warnings\n",
        "import os\n",
        "import IPython.display as ipd\n",
        "from sklearn.model_selection import train_test_split\n",
        "from keras.layers import Dense, Dropout, Flatten, Conv1D, Input, MaxPooling1D,Conv2D,MaxPooling2D,LeakyReLU\n",
        "from keras.models import Model, load_model\n",
        "from keras.callbacks import EarlyStopping, ModelCheckpoint\n",
        "from keras import backend as K\n",
        "from matplotlib import pyplot as plt\n",
        "import random\n",
        "import pathlib\n",
        "from tensorflow.keras.layers.experimental import preprocessing\n",
        "from IPython import display\n",
        "from tensorflow.keras.models import Sequential\n",
        "import tensorflow as tf\n",
        "from keras.layers.normalization import BatchNormalization\n",
        "# from sklearn.preprocessing import StandardScaler\n",
        "import sklearn\n"
      ],
      "execution_count": null,
      "outputs": []
    },
    {
      "cell_type": "code",
      "metadata": {
        "colab": {
          "base_uri": "https://localhost:8080/"
        },
        "id": "6qQFhUps4cf0",
        "outputId": "f639359d-969e-4422-fbe0-17d2a3a9e671"
      },
      "source": [
        "np.set_printoptions(threshold=np.inf)\n",
        "\n",
        "warnings.filterwarnings('ignore')\n",
        "os.environ['TF_CPP_MIN_LOG_LEVEL'] = '3'\n",
        "\n",
        "train_audio_path = '/content/drive/MyDrive/Voices-wav'\n",
        "labels = os.listdir(train_audio_path)\n",
        "labels.remove('.ipynb_checkpoints')\n",
        "print(labels)\n",
        "\n",
        "no_of_recordings = []\n",
        "for label in labels:\n",
        "    waves = [f for f in os.listdir(train_audio_path + '/' + label) if f.endswith('.wav')]\n",
        "    no_of_recordings.append(len(waves))\n",
        "print(no_of_recordings)"
      ],
      "execution_count": null,
      "outputs": [
        {
          "output_type": "stream",
          "text": [
            "['auto', 'dasti', 'garm', 'roshan', 'sard', 'tarik']\n",
            "[244, 244, 253, 255, 254, 247]\n"
          ],
          "name": "stdout"
        }
      ]
    },
    {
      "cell_type": "code",
      "metadata": {
        "colab": {
          "base_uri": "https://localhost:8080/",
          "height": 395
        },
        "id": "FCVKW3Fu_BJc",
        "outputId": "49e5702f-cafa-4278-81d3-0f9b1bbb02a2"
      },
      "source": [
        "# draw number of audio files for each label\n",
        "plt.figure(figsize=(12, 5))\n",
        "index = np.arange(len(labels))\n",
        "plt.bar(index, no_of_recordings)\n",
        "plt.xlabel('Commands', fontsize=12)\n",
        "plt.ylabel('No of recordings', fontsize=12)\n",
        "plt.xticks(index, labels, fontsize=15, rotation=60)\n",
        "plt.title('No. of recordings for each command')\n",
        "plt.show()"
      ],
      "execution_count": null,
      "outputs": [
        {
          "output_type": "display_data",
          "data": {
            "image/png": "[encoded data removed]",
            "text/plain": [
              "<Figure size 864x360 with 1 Axes>"
            ]
          },
          "metadata": {
            "tags": [],
            "needs_background": "light"
          }
        }
      ]
    },
    {
      "cell_type": "code",
      "metadata": {
        "colab": {
          "base_uri": "https://localhost:8080/",
          "height": 352
        },
        "id": "nkOTJCwxAYV4",
        "outputId": "af08d328-102a-4d7e-8a59-96c44d78393b"
      },
      "source": [
        "# plotting duration of audio files\n",
        "duration_of_recordings = []\n",
        "for label in labels:\n",
        "    waves = [f for f in os.listdir(train_audio_path + '/' + label) if f.endswith('.wav')]\n",
        "    for wav in waves:\n",
        "        sample_rate, samples = wavfile.read(train_audio_path + '/' + label + '/' + wav)\n",
        "        duration_of_recordings.append(float(len(samples) / sample_rate))\n",
        "plt.hist(np.array(duration_of_recordings))"
      ],
      "execution_count": null,
      "outputs": [
        {
          "output_type": "execute_result",
          "data": {
            "text/plain": [
              "(array([ 46., 181., 307., 250., 358., 255.,  61.,  33.,   5.,   1.]),\n",
              " array([0.57349206, 0.94414286, 1.31479365, 1.68544444, 2.05609524,\n",
              "        2.42674603, 2.79739683, 3.16804762, 3.53869841, 3.90934921,\n",
              "        4.28      ]),\n",
              " <a list of 10 Patch objects>)"
            ]
          },
          "metadata": {
            "tags": []
          },
          "execution_count": 71
        },
        {
          "output_type": "display_data",
          "data": {
            "image/png": "[encoded data removed]",
            "text/plain": [
              "<Figure size 432x288 with 1 Axes>"
            ]
          },
          "metadata": {
            "tags": [],
            "needs_background": "light"
          }
        }
      ]
    },
    {
      "cell_type": "code",
      "metadata": {
        "colab": {
          "base_uri": "https://localhost:8080/"
        },
        "id": "rCx0VDueCI86",
        "outputId": "671f8513-1274-4a2a-8384-2ee32cf8f52c"
      },
      "source": [
        "all_wave = []\n",
        "all_label = []\n",
        "for label in labels:\n",
        "    print(label)\n",
        "    waves = [f for f in os.listdir(train_audio_path + '/' + label) if f.endswith('.wav')]\n",
        "    for wav in waves:\n",
        "        samples, sample_rate = librosa.load(train_audio_path + '/' + label + '/' + wav, sr=16000)\n",
        "        samples = librosa.resample(samples, sample_rate, 10000)\n",
        "\n",
        "        # feature extraction using MFCC\n",
        "        # samples = librosa.feature.mfcc(samples, sr=10000, n_mfcc=13)\n",
        "\n",
        "        # normalization\n",
        "        # scaler = sklearn.preprocessing.StandardScaler()\n",
        "        # samples = scaler.fit_transform(samples)\n",
        "        samples = librosa.util.fix_length(samples, 10000, axis=-1)\n",
        "\n",
        "        if len(samples) == 10000:\n",
        "            all_wave.append(samples)\n",
        "            all_label.append(label)"
      ],
      "execution_count": null,
      "outputs": [
        {
          "output_type": "stream",
          "text": [
            "auto\n",
            "dasti\n",
            "garm\n",
            "roshan\n",
            "sard\n",
            "tarik\n"
          ],
          "name": "stdout"
        }
      ]
    },
    {
      "cell_type": "code",
      "metadata": {
        "id": "4vhtwAnbChv8"
      },
      "source": [
        "le = LabelEncoder()\n",
        "y = le.fit_transform(all_label)\n",
        "classes = list(le.classes_)\n",
        "y = np_utils.to_categorical(y, num_classes=len(labels))\n",
        "all_wave = np.array(all_wave).reshape(-1, 10000, 1)"
      ],
      "execution_count": null,
      "outputs": []
    },
    {
      "cell_type": "code",
      "metadata": {
        "id": "b9zWJ_xgCq16"
      },
      "source": [
        "x_tr, x_val, y_tr, y_val = train_test_split(np.array(all_wave), np.array(y), stratify=y, test_size=0.2,\n",
        "                                            random_state=777, shuffle=True)"
      ],
      "execution_count": null,
      "outputs": []
    },
    {
      "cell_type": "code",
      "metadata": {
        "colab": {
          "base_uri": "https://localhost:8080/"
        },
        "id": "ClxBzxw1C-PW",
        "outputId": "d68b41cd-61ca-45be-9fb4-a324b4ddf059"
      },
      "source": [
        "K.clear_session()\n",
        "\n",
        "inputs = Input(shape=(10000, 1))\n",
        "\n",
        "# First Conv1D layer\n",
        "conv = Conv1D(32, 7, padding='valid', activation='relu', strides=1)(inputs)\n",
        "conv = MaxPooling1D(3)(conv)\n",
        "conv = Dropout(0.2)(conv)\n",
        "\n",
        "# Second Conv1D layer\n",
        "conv = Conv1D(32, 13, padding='valid', activation='relu', strides=1)(conv)\n",
        "conv = MaxPooling1D(3)(conv)\n",
        "conv = Dropout(0.2)(conv)\n",
        "\n",
        "# Third Conv1D layer\n",
        "conv = Conv1D(64, 11, padding='valid', activation='relu', strides=1)(conv)\n",
        "conv = MaxPooling1D(3)(conv)\n",
        "conv = Dropout(0.2)(conv)\n",
        "\n",
        "# Fourth Conv1D layer\n",
        "conv = Conv1D(64, 7, padding='valid', activation='relu', strides=1)(conv)\n",
        "conv = MaxPooling1D(3)(conv)\n",
        "conv = Dropout(0.2)(conv)\n",
        "\n",
        "# Flatten layer\n",
        "conv = Flatten()(conv)\n",
        "\n",
        "# Dense Layer 1\n",
        "conv = Dense(128, activation='relu')(conv)\n",
        "conv = Dropout(0.2)(conv)\n",
        "\n",
        "# Dense Layer 2\n",
        "conv = Dense(32, activation='relu')(conv)\n",
        "conv = Dropout(0.2)(conv)\n",
        "\n",
        "outputs = Dense(len(labels), activation='softmax')(conv)\n",
        "\n",
        "model = Model(inputs, outputs)\n",
        "print(model.summary())"
      ],
      "execution_count": null,
      "outputs": [
        {
          "output_type": "stream",
          "text": [
            "Model: \"model\"\n",
            "_________________________________________________________________\n",
            "Layer (type)                 Output Shape              Param #   \n",
            "=================================================================\n",
            "input_1 (InputLayer)         [(None, 10000, 1)]        0         \n",
            "_________________________________________________________________\n",
            "conv1d (Conv1D)              (None, 9994, 32)          256       \n",
            "_________________________________________________________________\n",
            "max_pooling1d (MaxPooling1D) (None, 3331, 32)          0         \n",
            "_________________________________________________________________\n",
            "dropout (Dropout)            (None, 3331, 32)          0         \n",
            "_________________________________________________________________\n",
            "conv1d_1 (Conv1D)            (None, 3319, 32)          13344     \n",
            "_________________________________________________________________\n",
            "max_pooling1d_1 (MaxPooling1 (None, 1106, 32)          0         \n",
            "_________________________________________________________________\n",
            "dropout_1 (Dropout)          (None, 1106, 32)          0         \n",
            "_________________________________________________________________\n",
            "conv1d_2 (Conv1D)            (None, 1096, 64)          22592     \n",
            "_________________________________________________________________\n",
            "max_pooling1d_2 (MaxPooling1 (None, 365, 64)           0         \n",
            "_________________________________________________________________\n",
            "dropout_2 (Dropout)          (None, 365, 64)           0         \n",
            "_________________________________________________________________\n",
            "conv1d_3 (Conv1D)            (None, 359, 64)           28736     \n",
            "_________________________________________________________________\n",
            "max_pooling1d_3 (MaxPooling1 (None, 119, 64)           0         \n",
            "_________________________________________________________________\n",
            "dropout_3 (Dropout)          (None, 119, 64)           0         \n",
            "_________________________________________________________________\n",
            "flatten (Flatten)            (None, 7616)              0         \n",
            "_________________________________________________________________\n",
            "dense (Dense)                (None, 128)               974976    \n",
            "_________________________________________________________________\n",
            "dropout_4 (Dropout)          (None, 128)               0         \n",
            "_________________________________________________________________\n",
            "dense_1 (Dense)              (None, 32)                4128      \n",
            "_________________________________________________________________\n",
            "dropout_5 (Dropout)          (None, 32)                0         \n",
            "_________________________________________________________________\n",
            "dense_2 (Dense)              (None, 6)                 198       \n",
            "=================================================================\n",
            "Total params: 1,044,230\n",
            "Trainable params: 1,044,230\n",
            "Non-trainable params: 0\n",
            "_________________________________________________________________\n",
            "None\n"
          ],
          "name": "stdout"
        }
      ]
    },
    {
      "cell_type": "code",
      "metadata": {
        "colab": {
          "base_uri": "https://localhost:8080/",
          "height": 828
        },
        "id": "3cCJtlX-DOOg",
        "outputId": "0a9bc89c-5624-45c5-a556-6a74a5131b5b"
      },
      "source": [
        "# choosing loss function and optimization algorithm\n",
        "model.compile(loss='categorical_crossentropy', optimizer='adam', metrics=['accuracy'])\n",
        "\n",
        "# if 1==1 :\n",
        "if os.path.exists('classification_model2.h5'):\n",
        "    model = load_model('classification_model2.h5')\n",
        "else:\n",
        "    es = EarlyStopping(monitor='val_loss', mode='min', verbose=1, patience=10, min_delta=0.00001)\n",
        "    mc = ModelCheckpoint('best_model.hdf5', monitor='val_acc', verbose=1, save_best_only=True, mode='max')\n",
        "    history = model.fit(x_tr, y_tr, epochs=10, callbacks=[es, mc], batch_size=25, validation_data=(x_val, y_val))\n",
        "    model.save('classification_model2.h5')\n",
        "    plt.plot(history.history['loss'], label='train')\n",
        "    plt.plot(history.history['val_loss'], label='test')\n",
        "    plt.legend()\n",
        "    plt.xlabel('Epochs')\n",
        "    plt.ylabel('Loss')\n",
        "    plt.title('Loss diagram')\n",
        "    plt.show()"
      ],
      "execution_count": null,
      "outputs": [
        {
          "output_type": "stream",
          "text": [
            "Epoch 1/10\n",
            "48/48 [==============================] - 26s 527ms/step - loss: 1.7937 - accuracy: 0.1609 - val_loss: 1.7876 - val_accuracy: 0.2300\n",
            "WARNING:tensorflow:Can save best model only with val_acc available, skipping.\n",
            "Epoch 2/10\n",
            "48/48 [==============================] - 25s 525ms/step - loss: 1.7799 - accuracy: 0.2160 - val_loss: 1.7894 - val_accuracy: 0.1900\n",
            "WARNING:tensorflow:Can save best model only with val_acc available, skipping.\n",
            "Epoch 3/10\n",
            "48/48 [==============================] - 25s 524ms/step - loss: 1.7793 - accuracy: 0.1813 - val_loss: 1.7659 - val_accuracy: 0.2467\n",
            "WARNING:tensorflow:Can save best model only with val_acc available, skipping.\n",
            "Epoch 4/10\n",
            "48/48 [==============================] - 25s 531ms/step - loss: 1.7342 - accuracy: 0.2536 - val_loss: 1.6990 - val_accuracy: 0.2800\n",
            "WARNING:tensorflow:Can save best model only with val_acc available, skipping.\n",
            "Epoch 5/10\n",
            "48/48 [==============================] - 25s 529ms/step - loss: 1.6784 - accuracy: 0.2844 - val_loss: 1.6229 - val_accuracy: 0.3667\n",
            "WARNING:tensorflow:Can save best model only with val_acc available, skipping.\n",
            "Epoch 6/10\n",
            "48/48 [==============================] - 25s 527ms/step - loss: 1.5841 - accuracy: 0.3171 - val_loss: 1.6025 - val_accuracy: 0.3667\n",
            "WARNING:tensorflow:Can save best model only with val_acc available, skipping.\n",
            "Epoch 7/10\n",
            "48/48 [==============================] - 25s 527ms/step - loss: 1.5237 - accuracy: 0.3689 - val_loss: 1.5024 - val_accuracy: 0.3967\n",
            "WARNING:tensorflow:Can save best model only with val_acc available, skipping.\n",
            "Epoch 8/10\n",
            "48/48 [==============================] - 25s 530ms/step - loss: 1.4313 - accuracy: 0.4391 - val_loss: 1.4005 - val_accuracy: 0.4733\n",
            "WARNING:tensorflow:Can save best model only with val_acc available, skipping.\n",
            "Epoch 9/10\n",
            "48/48 [==============================] - 25s 532ms/step - loss: 1.3058 - accuracy: 0.4879 - val_loss: 1.3927 - val_accuracy: 0.4467\n",
            "WARNING:tensorflow:Can save best model only with val_acc available, skipping.\n",
            "Epoch 10/10\n",
            "48/48 [==============================] - 25s 529ms/step - loss: 1.2802 - accuracy: 0.4692 - val_loss: 1.3012 - val_accuracy: 0.5000\n",
            "WARNING:tensorflow:Can save best model only with val_acc available, skipping.\n"
          ],
          "name": "stdout"
        },
        {
          "output_type": "display_data",
          "data": {
            "image/png": "[encoded data removed]",
            "text/plain": [
              "<Figure size 432x288 with 1 Axes>"
            ]
          },
          "metadata": {
            "tags": [],
            "needs_background": "light"
          }
        }
      ]
    },
    {
      "cell_type": "code",
      "metadata": {
        "id": "RarTuEW6DQZg"
      },
      "source": [
        "def predict(audio):\n",
        "    prob = model.predict(audio.reshape(1, 10000, 1))\n",
        "    ind = np.argmax(prob[0])\n",
        "    return classes[ind]"
      ],
      "execution_count": null,
      "outputs": []
    },
    {
      "cell_type": "code",
      "metadata": {
        "colab": {
          "base_uri": "https://localhost:8080/"
        },
        "id": "nfGIfvy7JXS_",
        "outputId": "08dedaf2-5648-4d80-d8d1-829297fc9e3f"
      },
      "source": [
        "# test model on 10 random samples\n",
        "for i in range(10):\n",
        "    index = random.randint(0, len(x_val) - 1)\n",
        "    samples = x_val[index].ravel()\n",
        "    ipd.Audio(samples, rate=8000)\n",
        "    print(\"Audio:\", classes[np.argmax(y_val[index])], \" | Text:\", predict(samples))"
      ],
      "execution_count": null,
      "outputs": [
        {
          "output_type": "stream",
          "text": [
            "Audio: sard  | Text: dasti\n",
            "Audio: auto  | Text: dasti\n",
            "Audio: auto  | Text: auto\n",
            "Audio: tarik  | Text: sard\n",
            "Audio: garm  | Text: dasti\n",
            "Audio: roshan  | Text: roshan\n",
            "Audio: garm  | Text: auto\n",
            "Audio: sard  | Text: sard\n",
            "Audio: tarik  | Text: sard\n",
            "Audio: sard  | Text: sard\n"
          ],
          "name": "stdout"
        }
      ]
    }
  ]
}